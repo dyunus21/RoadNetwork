{
 "cells": [
  {
   "cell_type": "markdown",
   "metadata": {},
   "source": [
    "imports used throughout data processing"
   ]
  },
  {
   "cell_type": "code",
   "execution_count": 1,
   "metadata": {},
   "outputs": [],
   "source": [
    "import pandas as pd # read from csv\n",
    "import numpy as np  # preprocess data"
   ]
  },
  {
   "cell_type": "markdown",
   "metadata": {},
   "source": [
    "read edge and node dataframes from their corresponding csv files"
   ]
  },
  {
   "cell_type": "code",
   "execution_count": 2,
   "metadata": {},
   "outputs": [],
   "source": [
    "edge_df = pd.read_csv(\"../Datasets/edges.csv\")"
   ]
  },
  {
   "cell_type": "code",
   "execution_count": 3,
   "metadata": {},
   "outputs": [],
   "source": [
    "nodes_df = pd.read_csv(\"../Datasets/nodes.csv\") # read edge dataset from our csv file"
   ]
  },
  {
   "cell_type": "markdown",
   "metadata": {},
   "source": [
    "clean node dataset to remove all nodes where there is one edge or fewer leaving it"
   ]
  },
  {
   "cell_type": "code",
   "execution_count": 4,
   "metadata": {},
   "outputs": [],
   "source": [
    "# Creates a copy of the nodes_df\n",
    "cleaned_nodes_df = nodes_df.copy(deep=True)"
   ]
  },
  {
   "cell_type": "code",
   "execution_count": 5,
   "metadata": {},
   "outputs": [],
   "source": [
    "# count number of edges leaving each node\n",
    "node_edge_count = np.zeros(cleaned_nodes_df.shape[0])\n",
    "for index, edge in edge_df.iterrows():\n",
    "    node_edge_count[int(edge[1])] += 1 # increment counter for the corresponding node of the start node ID of the edge "
   ]
  },
  {
   "cell_type": "code",
   "execution_count": 6,
   "metadata": {},
   "outputs": [],
   "source": [
    "# convert the cleaned nodes dataframe to an np array of ints\n",
    "cleaned_nodes_np = cleaned_nodes_df.to_numpy(dtype=np.int32)\n",
    "# remove all rows where the number of edges leaving that node is less than 1\n",
    "cleaned_nodes_np = np.delete(cleaned_nodes_np, np.where(node_edge_count > 1), axis = 0)"
   ]
  },
  {
   "cell_type": "markdown",
   "metadata": {},
   "source": [
    "process the edge dataset to remove edges that no longer link to a valid node"
   ]
  },
  {
   "cell_type": "code",
   "execution_count": 7,
   "metadata": {},
   "outputs": [],
   "source": [
    "# get overall list of node IDs\n",
    "node_ids = cleaned_nodes_np[:, 0]\n",
    "# convert the edge dataframe to an np array\n",
    "cleaned_edges_np = edge_df.to_numpy(dtype=np.int32)\n",
    "# create array that has values corresponding to whether the start and end node IDs are present in the overall list of IDs\n",
    "present_start = np.isin(cleaned_edges_np[:, 1], node_ids)\n",
    "present_end = np.isin(cleaned_edges_np[:, 2], node_ids)\n",
    "present = np.logical_and(present_start, present_end)\n",
    "# delete rows in which the start/end ID are not present in the overall list of node IDs\n",
    "cleaned_edges_np = np.delete(cleaned_edges_np, ~present, axis = 0)"
   ]
  },
  {
   "cell_type": "code",
   "execution_count": 17,
   "metadata": {},
   "outputs": [
    {
     "name": "stdout",
     "output_type": "stream",
     "text": [
      "(169509, 3)\n",
      "(175813, 3)\n",
      "(158665, 4)\n",
      "(179179, 4)\n"
     ]
    }
   ],
   "source": [
    "# print new shapes for cleaned nodes and edges (sanity check)\n",
    "print(cleaned_nodes_np.shape)\n",
    "print(nodes_df.shape)\n",
    "print(cleaned_edges_np.shape)\n",
    "print(edge_df.shape)"
   ]
  },
  {
   "cell_type": "code",
   "execution_count": 9,
   "metadata": {},
   "outputs": [],
   "source": [
    "#export cleaned_nodes_np and cleaned_edges_np dataframe into own csv files\n",
    "cleaned_nodes_df = pd.DataFrame(cleaned_nodes_np, columns=[\"Node ID\",\"NormX\",\"NormY\"])\n",
    "cleaned_nodes_df.to_csv('cleaned_nodes.csv')\n",
    "\n",
    "cleaned_edges_df = pd.DataFrame(cleaned_edges_np, columns=[\"Edge Node ID\",\"Start Node ID\",\"End Node ID\",\"L2 Distance\"])\n",
    "cleaned_edges_df.to_csv('cleaned_edges.csv')\n"
   ]
  },
  {
   "cell_type": "code",
   "execution_count": 10,
   "metadata": {},
   "outputs": [
    {
     "data": {
      "text/plain": [
       "array([   2, 3565, 3490], dtype=int32)"
      ]
     },
     "execution_count": 10,
     "metadata": {},
     "output_type": "execute_result"
    }
   ],
   "source": [
    "cleaned_nodes_np[1]"
   ]
  },
  {
   "cell_type": "code",
   "execution_count": 18,
   "metadata": {},
   "outputs": [
    {
     "name": "stdout",
     "output_type": "stream",
     "text": [
      "(123, 3)\n"
     ]
    }
   ],
   "source": [
    "smaller_nodes_np = np.copy(cleaned_nodes_np)\n",
    "smaller_edges_np = np.copy(cleaned_edges_np)\n",
    "# get rid of nodes where node ID is less than 150\n",
    "smaller_nodes_np = np.delete(smaller_nodes_np, np.where(smaller_nodes_np[:, 0] > 125), axis = 0)\n",
    "print(smaller_nodes_np.shape)\n",
    "# get overall list of node IDs\n",
    "smaller_node_ids = smaller_nodes_np[:, 0]\n",
    "# create array that has values corresponding to whether the start and end node IDs are present in the overall list of IDs\n",
    "present_start_small = np.isin(smaller_edges_np[:, 1], smaller_node_ids)\n",
    "present_start_small = np.isin(smaller_edges_np[:, 2], smaller_node_ids)\n",
    "present_small = np.logical_and(present_start_small, present_start_small)\n",
    "# delete rows in which the start/end ID are not present in the overall list of node IDs\n",
    "smaller_edges_np = np.delete(smaller_edges_np, ~present_small, axis = 0)"
   ]
  },
  {
   "cell_type": "code",
   "execution_count": 19,
   "metadata": {},
   "outputs": [
    {
     "name": "stdout",
     "output_type": "stream",
     "text": [
      "(116, 4) (123, 3)\n"
     ]
    }
   ],
   "source": [
    "print(smaller_edges_np.shape, smaller_nodes_np.shape)\n"
   ]
  },
  {
   "cell_type": "code",
   "execution_count": 20,
   "metadata": {},
   "outputs": [],
   "source": [
    "#export cleaned_nodes_np and cleaned_edges_np dataframe into own csv files\n",
    "small_nodes_df = pd.DataFrame(smaller_nodes_np, columns=[\"Node ID\",\"NormX\",\"NormY\"])\n",
    "small_nodes_df.to_csv('cleaned_nodes_small.csv', index=False)\n",
    "\n",
    "small_edges_df = pd.DataFrame(smaller_edges_np, columns=[\"Edge Node ID\",\"Start Node ID\",\"End Node ID\",\"L2 Distance\"])\n",
    "small_edges_df.to_csv('cleaned_edges_small.csv', index=False)"
   ]
  }
 ],
 "metadata": {
  "interpreter": {
   "hash": "c61944fa1944ff5856c4c2a49bb73a6b3521bb1f256e09e2ccc8e4db7235377c"
  },
  "kernelspec": {
   "display_name": "Python 3.9.7 ('base')",
   "language": "python",
   "name": "python3"
  },
  "language_info": {
   "codemirror_mode": {
    "name": "ipython",
    "version": 3
   },
   "file_extension": ".py",
   "mimetype": "text/x-python",
   "name": "python",
   "nbconvert_exporter": "python",
   "pygments_lexer": "ipython3",
   "version": "3.8.8"
  },
  "orig_nbformat": 4
 },
 "nbformat": 4,
 "nbformat_minor": 2
}
